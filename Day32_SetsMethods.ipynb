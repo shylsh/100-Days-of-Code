{
 "cells": [
  {
   "cell_type": "code",
   "execution_count": 3,
   "metadata": {},
   "outputs": [
    {
     "name": "stdout",
     "output_type": "stream",
     "text": [
      "{1, 2, 3, 5, 6, 7}\n",
      "{1, 2, 3, 5, 6, 7} {3, 6, 7}\n"
     ]
    }
   ],
   "source": [
    "# the union () and Update() method prints all items that are present in the two sets.\n",
    "# union returns a new set\n",
    "# update method adds item into the existing set from another set.\n",
    "\n",
    "s1 ={1,2,5,6,}\n",
    "s2 = {3,6,7}\n",
    "print(s1.union(s2))\n",
    "s1.update(s2)\n",
    "print(s1,s2)"
   ]
  },
  {
   "cell_type": "code",
   "execution_count": 4,
   "metadata": {},
   "outputs": [
    {
     "name": "stdout",
     "output_type": "stream",
     "text": [
      "{'tokyo', 'Berlin', 'madrid'}\n"
     ]
    }
   ],
   "source": [
    "# the difference and difference update prints only items that are only present in the original set and not in both the sets.\n",
    "# The difference method returns a new set whereas difference _update method updates into the existing set from another set.\n",
    "\n",
    "cities ={\"tokyo\", \"madrid\",'Berlin','Delhi'}\n",
    "cities2 = {'Seoul','Kabul','Delhi'}\n",
    "cities3 = cities.difference(cities2)\n",
    "print(cities3)"
   ]
  },
  {
   "cell_type": "code",
   "execution_count": 9,
   "metadata": {},
   "outputs": [
    {
     "name": "stdout",
     "output_type": "stream",
     "text": [
      "{'Delhi'}\n",
      "False\n",
      "False\n"
     ]
    }
   ],
   "source": [
    "# the intersection and intersection update methods prints only items that are similar to both the sets. \n",
    "# the intersection mehtod returns a new set whereas intersection_update method updates into the existing set from another set.\n",
    "# issubset() method checks if all the items of the original set are present int he particular set.\n",
    "# issuperset() method checks if all the items of a particular set are present in the original set.\n",
    "\n",
    "print(cities.intersection(cities2))\n",
    "print(cities.issuperset(cities2)) \n",
    "print(cities.issubset(cities2))"
   ]
  },
  {
   "cell_type": "code",
   "execution_count": 10,
   "metadata": {},
   "outputs": [
    {
     "name": "stdout",
     "output_type": "stream",
     "text": [
      "False\n"
     ]
    }
   ],
   "source": [
    "# isdisjoint()\n",
    "# items of given set are present in another set ,checks if there are no element in common between sets.\n",
    "print(cities.isdisjoint(cities2))\n"
   ]
  },
  {
   "cell_type": "code",
   "execution_count": 11,
   "metadata": {},
   "outputs": [
    {
     "data": {
      "text/plain": [
       "{'Berlin', 'Delhi', 'Helsinki', 'madrid', 'tokyo'}"
      ]
     },
     "execution_count": 11,
     "metadata": {},
     "output_type": "execute_result"
    }
   ],
   "source": [
    "# add()\n",
    "# if you want to add a single item in the set then use add() method.\n",
    "cities.add(\"Helsinki\")\n",
    "cities"
   ]
  },
  {
   "cell_type": "code",
   "execution_count": 19,
   "metadata": {},
   "outputs": [
    {
     "name": "stdout",
     "output_type": "stream",
     "text": [
      "{'Berlin', 'bangalore', 'mangalore', 'tokyo', 'Delhi', 'madrid', 'Helsinki'} {'tokyo', 'Berlin', 'madrid'}\n",
      "{'Berlin', 'bangalore', 'mangalore', 'tokyo', 'Delhi', 'madrid', 'Helsinki'}\n"
     ]
    }
   ],
   "source": [
    "# update()\n",
    "# if you want to add more than one item, simply create another set or any other iterable objects and use the update method()\n",
    "\n",
    "print(cities,cities3)\n",
    "city = ['mangalore',\"bangalore\"]\n",
    "cities.update(city)\n",
    "print(cities)"
   ]
  },
  {
   "cell_type": "code",
   "execution_count": 20,
   "metadata": {},
   "outputs": [
    {
     "data": {
      "text/plain": [
       "{'Berlin', 'Delhi', 'Helsinki', 'bangalore', 'madrid', 'tokyo'}"
      ]
     },
     "execution_count": 20,
     "metadata": {},
     "output_type": "execute_result"
    }
   ],
   "source": [
    "cities.remove('mangalore')\n",
    "cities"
   ]
  },
  {
   "cell_type": "code",
   "execution_count": 21,
   "metadata": {},
   "outputs": [
    {
     "data": {
      "text/plain": [
       "{'Berlin', 'Delhi', 'Helsinki', 'madrid', 'tokyo'}"
      ]
     },
     "execution_count": 21,
     "metadata": {},
     "output_type": "execute_result"
    }
   ],
   "source": [
    "cities.discard('bangalore')\n",
    "cities"
   ]
  },
  {
   "cell_type": "markdown",
   "metadata": {},
   "source": [
    "> the main difference between remove and discard is that, if we try to delete an tiem which is not presentin set, then remove() raises an error, wheas discard() does not riase any error"
   ]
  },
  {
   "cell_type": "code",
   "execution_count": 23,
   "metadata": {},
   "outputs": [
    {
     "name": "stdout",
     "output_type": "stream",
     "text": [
      "tokyo\n",
      "{'Delhi', 'madrid', 'Helsinki'}\n"
     ]
    }
   ],
   "source": [
    "# it pops the last element, but in case of set you wont know which element is it going to remove, because the sets are unorganized \n",
    "item = cities.pop()\n",
    "print(item)\n",
    "print(cities)"
   ]
  },
  {
   "cell_type": "code",
   "execution_count": 24,
   "metadata": {},
   "outputs": [
    {
     "name": "stdout",
     "output_type": "stream",
     "text": [
      "Present\n"
     ]
    }
   ],
   "source": [
    "# check if item exists\n",
    "if \"Delhi\" in cities:\n",
    "    print('Present')\n",
    "else:\n",
    "    print('Absent')"
   ]
  }
 ],
 "metadata": {
  "kernelspec": {
   "display_name": "base",
   "language": "python",
   "name": "python3"
  },
  "language_info": {
   "codemirror_mode": {
    "name": "ipython",
    "version": 3
   },
   "file_extension": ".py",
   "mimetype": "text/x-python",
   "name": "python",
   "nbconvert_exporter": "python",
   "pygments_lexer": "ipython3",
   "version": "3.10.13"
  }
 },
 "nbformat": 4,
 "nbformat_minor": 2
}
