{
 "cells": [
  {
   "cell_type": "markdown",
   "metadata": {},
   "source": [
    "## User-Defined Functions"
   ]
  },
  {
   "cell_type": "code",
   "execution_count": 1,
   "metadata": {},
   "outputs": [
    {
     "name": "stdout",
     "output_type": "stream",
     "text": [
      "4.235294117647059\n"
     ]
    }
   ],
   "source": [
    "a  =9\n",
    "b = 8\n",
    "gmean = (a*b)/(a+b)\n",
    "print(gmean)"
   ]
  },
  {
   "cell_type": "code",
   "execution_count": 3,
   "metadata": {},
   "outputs": [],
   "source": [
    "def gmean(a,b):\n",
    "    print((a*b)/(a+b))"
   ]
  },
  {
   "cell_type": "code",
   "execution_count": 5,
   "metadata": {},
   "outputs": [
    {
     "name": "stdout",
     "output_type": "stream",
     "text": [
      "4.235294117647059\n"
     ]
    }
   ],
   "source": [
    "gmean(9,8)"
   ]
  },
  {
   "cell_type": "code",
   "execution_count": 6,
   "metadata": {},
   "outputs": [
    {
     "name": "stdout",
     "output_type": "stream",
     "text": [
      "first number is greater\n",
      "4.235294117647059\n"
     ]
    }
   ],
   "source": [
    "if (a> b):\n",
    "    print(\"first number is greater\")\n",
    "else:\n",
    "    print(\"second number is greater or equal\")\n",
    "    \n",
    "gmean(a,b)"
   ]
  },
  {
   "cell_type": "code",
   "execution_count": 7,
   "metadata": {},
   "outputs": [],
   "source": [
    "def isgreater(a,b):\n",
    "    if (a> b):\n",
    "        print(\"first number is greater\")\n",
    "    else:\n",
    "        print(\"second number is greater or equal\")\n",
    "    "
   ]
  },
  {
   "cell_type": "code",
   "execution_count": 12,
   "metadata": {},
   "outputs": [
    {
     "name": "stdout",
     "output_type": "stream",
     "text": [
      "second number is greater or equal\n"
     ]
    }
   ],
   "source": [
    "c = int(input())\n",
    "d = int(input())\n",
    "isgreater(c,d)"
   ]
  }
 ],
 "metadata": {
  "kernelspec": {
   "display_name": "base",
   "language": "python",
   "name": "python3"
  },
  "language_info": {
   "codemirror_mode": {
    "name": "ipython",
    "version": 3
   },
   "file_extension": ".py",
   "mimetype": "text/x-python",
   "name": "python",
   "nbconvert_exporter": "python",
   "pygments_lexer": "ipython3",
   "version": "3.10.13"
  }
 },
 "nbformat": 4,
 "nbformat_minor": 2
}
