{
 "cells": [
  {
   "cell_type": "markdown",
   "metadata": {},
   "source": [
    "## Create a Calculator\n",
    "Create a calculator capable of performing addition, subtraction, multiplication &  division operations on two numbers. Your program should\n",
    "format the output in a readable manner."
   ]
  },
  {
   "cell_type": "code",
   "execution_count": 4,
   "metadata": {},
   "outputs": [],
   "source": [
    "a= 6\n",
    "b = 2\n",
    "\n",
    "sum = a + b\n",
    "difference  =a -b\n",
    "product = a *b\n",
    "division = a/b\n",
    "floor_value = a//b\n",
    "power_value = a ** b"
   ]
  },
  {
   "cell_type": "code",
   "execution_count": 5,
   "metadata": {},
   "outputs": [
    {
     "name": "stdout",
     "output_type": "stream",
     "text": [
      "The sum of numbers are:  8\n",
      "The difference of numbers are:  4\n",
      "The product of numbers are:  12\n",
      "The division of numbers are:  3.0\n",
      "The floor_value of numbers are:  3\n",
      "The power_value of numbers are:  36\n"
     ]
    }
   ],
   "source": [
    "print(\"The sum of numbers are: \", sum)\n",
    "print(\"The difference of numbers are: \", difference)\n",
    "print(\"The product of numbers are: \", product)\n",
    "print(\"The division of numbers are: \", division)\n",
    "print(\"The floor_value of numbers are: \", floor_value)\n",
    "print(\"The power_value of numbers are: \", power_value)\n",
    "\n"
   ]
  }
 ],
 "metadata": {
  "kernelspec": {
   "display_name": "base",
   "language": "python",
   "name": "python3"
  },
  "language_info": {
   "codemirror_mode": {
    "name": "ipython",
    "version": 3
   },
   "file_extension": ".py",
   "mimetype": "text/x-python",
   "name": "python",
   "nbconvert_exporter": "python",
   "pygments_lexer": "ipython3",
   "version": "3.10.13"
  }
 },
 "nbformat": 4,
 "nbformat_minor": 2
}
