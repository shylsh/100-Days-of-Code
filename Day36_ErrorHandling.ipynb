{
 "cells": [
  {
   "cell_type": "markdown",
   "metadata": {},
   "source": [
    "* Exception handling is the process of responding to unwanted or unexpected events when a computer program runs. Exception handling deals with these events to avoid the program or system crashing, and without this process, exceptions would disrupt the normal operation of a program.\n",
    "\n",
    "* try... except blocks are used in python to handle errors and exceptions. The code in try block runs when there is no error. If the try block catches the error, then the except block is executed."
   ]
  },
  {
   "cell_type": "code",
   "execution_count": 3,
   "metadata": {},
   "outputs": [
    {
     "name": "stdout",
     "output_type": "stream",
     "text": [
      "Multiplication factor of 5 is : \n",
      "5 X 1 = 5\n",
      "5 X 2 = 10\n",
      "5 X 3 = 15\n",
      "5 X 4 = 20\n",
      "5 X 5 = 25\n",
      "5 X 6 = 30\n",
      "5 X 7 = 35\n",
      "5 X 8 = 40\n",
      "5 X 9 = 45\n",
      "5 X 10 = 50\n",
      "Some lines of code\n",
      "End of programs\n"
     ]
    }
   ],
   "source": [
    "a = int(input('Enter the number: '))\n",
    "print(f'Multiplication factor of {a} is : ')\n",
    "\n",
    "for i in range(1,11):\n",
    "    print(f'{a} X {i} = {a*i}')\n",
    "    \n",
    "print(\"Some lines of code\")\n",
    "print(\"End of programs\")"
   ]
  },
  {
   "cell_type": "code",
   "execution_count": 6,
   "metadata": {},
   "outputs": [
    {
     "name": "stdout",
     "output_type": "stream",
     "text": [
      "Multiplication factor of 45 is : \n",
      "45 X 1 = 45\n",
      "45 X 2 = 90\n",
      "45 X 3 = 135\n",
      "45 X 4 = 180\n",
      "45 X 5 = 225\n",
      "45 X 6 = 270\n",
      "45 X 7 = 315\n",
      "45 X 8 = 360\n",
      "45 X 9 = 405\n",
      "45 X 10 = 450\n",
      "Some lines of code\n",
      "End of programs\n"
     ]
    }
   ],
   "source": [
    "a = input('Enter the number: ')\n",
    "print(f'Multiplication factor of {a} is : ')\n",
    "\n",
    "try:\n",
    "    for i in range(1,11):\n",
    "        print(f'{int(a)} X {i} = {int(a)*i}')\n",
    "except:\n",
    "    print(\"Invalid Input\")\n",
    "    \n",
    "print(\"Some lines of code\")\n",
    "print(\"End of programs\")"
   ]
  }
 ],
 "metadata": {
  "kernelspec": {
   "display_name": "base",
   "language": "python",
   "name": "python3"
  },
  "language_info": {
   "codemirror_mode": {
    "name": "ipython",
    "version": 3
   },
   "file_extension": ".py",
   "mimetype": "text/x-python",
   "name": "python",
   "nbconvert_exporter": "python",
   "pygments_lexer": "ipython3",
   "version": "3.10.13"
  }
 },
 "nbformat": 4,
 "nbformat_minor": 2
}
