{
 "cells": [
  {
   "cell_type": "markdown",
   "metadata": {},
   "source": [
    "### Dictionaries\n",
    "* They are ordered collection of data items. they store multiple items in a single variable.\n",
    "* Dictionary items are key-value pairs that are sseparated by commas and enclosed within curly brackets{}"
   ]
  },
  {
   "cell_type": "code",
   "execution_count": 1,
   "metadata": {},
   "outputs": [
    {
     "name": "stdout",
     "output_type": "stream",
     "text": [
      "<class 'dict'>\n",
      "Human being\n"
     ]
    }
   ],
   "source": [
    "dic ={\n",
    "    'Shailesh' : \"Human being\",\n",
    "    'Spoon=' : 'Object'\n",
    "}\n",
    "print(type(dic))\n",
    "print(dic['Shailesh'])"
   ]
  },
  {
   "cell_type": "code",
   "execution_count": 3,
   "metadata": {},
   "outputs": [
    {
     "name": "stdout",
     "output_type": "stream",
     "text": [
      "shailesh\n"
     ]
    }
   ],
   "source": [
    "dic1 = {\n",
    "    344: 'shailesh',\n",
    "    56 : 'Shubam',\n",
    "    678 : 'Zakir',\n",
    "    567 : \"Neha\"\n",
    "}\n",
    "print(dic1[344])"
   ]
  },
  {
   "cell_type": "code",
   "execution_count": 14,
   "metadata": {},
   "outputs": [
    {
     "name": "stdout",
     "output_type": "stream",
     "text": [
      "shailesh\n",
      "Shubam\n",
      "Zakir\n",
      "Neha\n"
     ]
    }
   ],
   "source": [
    "for key in dic1.keys():\n",
    "    print(dic1[key])"
   ]
  },
  {
   "cell_type": "code",
   "execution_count": 9,
   "metadata": {},
   "outputs": [
    {
     "name": "stdout",
     "output_type": "stream",
     "text": [
      "dict_keys([344, 56, 678, 567])\n"
     ]
    }
   ],
   "source": [
    "print(dic1.keys())"
   ]
  },
  {
   "cell_type": "code",
   "execution_count": 17,
   "metadata": {},
   "outputs": [
    {
     "name": "stdout",
     "output_type": "stream",
     "text": [
      "dict_values(['shailesh', 'Shubam', 'Zakir', 'Neha'])\n"
     ]
    }
   ],
   "source": [
    "print(dic1.values())"
   ]
  },
  {
   "cell_type": "code",
   "execution_count": 16,
   "metadata": {},
   "outputs": [
    {
     "name": "stdout",
     "output_type": "stream",
     "text": [
      "shailesh\n",
      "Shubam\n",
      "Zakir\n",
      "Neha\n"
     ]
    }
   ],
   "source": [
    "for key in dic1.keys():\n",
    "    print(f'{dic1[key]}')"
   ]
  },
  {
   "cell_type": "code",
   "execution_count": 18,
   "metadata": {},
   "outputs": [
    {
     "name": "stdout",
     "output_type": "stream",
     "text": [
      "dict_items([('name', 'karan'), ('age', '19'), ('eligible', 'True')])\n",
      "The value corresponding to the key name is karan\n",
      "The value corresponding to the key age is 19\n",
      "The value corresponding to the key eligible is True\n"
     ]
    }
   ],
   "source": [
    "info = {\n",
    "    'name': 'karan',\n",
    "    'age': '19',\n",
    "    'eligible' :'True'\n",
    "}\n",
    "print(info.items())\n",
    "for key, value in info.items():\n",
    "    print(f'The value corresponding to the key {key} is {value}')"
   ]
  },
  {
   "cell_type": "code",
   "execution_count": null,
   "metadata": {},
   "outputs": [],
   "source": []
  }
 ],
 "metadata": {
  "kernelspec": {
   "display_name": "base",
   "language": "python",
   "name": "python3"
  },
  "language_info": {
   "codemirror_mode": {
    "name": "ipython",
    "version": 3
   },
   "file_extension": ".py",
   "mimetype": "text/x-python",
   "name": "python",
   "nbconvert_exporter": "python",
   "pygments_lexer": "ipython3",
   "version": "3.10.13"
  }
 },
 "nbformat": 4,
 "nbformat_minor": 2
}
