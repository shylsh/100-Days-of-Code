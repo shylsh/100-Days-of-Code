{
 "cells": [
  {
   "cell_type": "markdown",
   "metadata": {},
   "source": [
    "* Create a python program capable of greeting you with Good Morning. Good Afternoon and Good Evening. Your program should use time module to get the current hour . Here is a sample program and documentation link for you:"
   ]
  },
  {
   "cell_type": "code",
   "execution_count": 1,
   "metadata": {},
   "outputs": [],
   "source": [
    "time = int(input(\"Enter the time in hours: \"))\n",
    "if (4 <time< 12):\n",
    "    print(\"Good morning\")\n",
    "elif(16>time > 12):\n",
    "    print(\"Good Afternoon\")\n",
    "elif(16<time < 19):\n",
    "    print(\"Good Evening\")\n",
    "else:\n",
    "    print(\"Good night\")\n",
    "    "
   ]
  },
  {
   "cell_type": "code",
   "execution_count": 1,
   "metadata": {},
   "outputs": [
    {
     "data": {
      "text/plain": [
       "time.struct_time(tm_year=1970, tm_mon=1, tm_mday=1, tm_hour=0, tm_min=0, tm_sec=0, tm_wday=3, tm_yday=1, tm_isdst=0)"
      ]
     },
     "execution_count": 1,
     "metadata": {},
     "output_type": "execute_result"
    }
   ],
   "source": [
    "import time\n",
    "time.gmtime(0)"
   ]
  },
  {
   "cell_type": "code",
   "execution_count": 2,
   "metadata": {},
   "outputs": [
    {
     "name": "stdout",
     "output_type": "stream",
     "text": [
      "11\n",
      "30\n",
      "07\n",
      "the current time is : 11:30:07\n"
     ]
    }
   ],
   "source": [
    "import time\n",
    "\n",
    "timestamp1 = time.strftime( '%H')\n",
    "print(timestamp1)\n",
    "\n",
    "timestamp2 = time.strftime('%M')\n",
    "print(timestamp2)\n",
    "\n",
    "timestamp3 = time.strftime('%S')\n",
    "print(timestamp3)\n",
    "\n",
    "print(f'the current time is : {timestamp1}:{timestamp2}:{timestamp3}')"
   ]
  },
  {
   "cell_type": "code",
   "execution_count": 10,
   "metadata": {},
   "outputs": [
    {
     "name": "stdout",
     "output_type": "stream",
     "text": [
      "Good Morning\n"
     ]
    }
   ],
   "source": [
    "import time\n",
    "time1 = int(time.strftime('%H'))\n",
    "if 4 <= time1 < 12:\n",
    "    print(\"Good Morning\")\n",
    "elif 12 <=time1 <=16:\n",
    "    print(\"Good Afternoon\")\n",
    "elif 16 < time1 <= 20:\n",
    "    print(\"Good Evening\")\n",
    "else:\n",
    "    print(\"Good Night\")"
   ]
  },
  {
   "cell_type": "code",
   "execution_count": 7,
   "metadata": {},
   "outputs": [
    {
     "name": "stdout",
     "output_type": "stream",
     "text": [
      "11:33:37\n"
     ]
    }
   ],
   "source": [
    "timestamp = time.strftime('%H:%M:%S')\n",
    "print(timestamp)"
   ]
  }
 ],
 "metadata": {
  "kernelspec": {
   "display_name": "base",
   "language": "python",
   "name": "python3"
  },
  "language_info": {
   "codemirror_mode": {
    "name": "ipython",
    "version": 3
   },
   "file_extension": ".py",
   "mimetype": "text/x-python",
   "name": "python",
   "nbconvert_exporter": "python",
   "pygments_lexer": "ipython3",
   "version": "3.10.13"
  }
 },
 "nbformat": 4,
 "nbformat_minor": 2
}
