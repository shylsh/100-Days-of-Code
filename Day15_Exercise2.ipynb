{
 "cells": [
  {
   "cell_type": "markdown",
   "metadata": {},
   "source": [
    "* Create a python program capable of greeting you with Good Morning. Good Afternoon and Good Evening. Your program should use time module to get the current hour . Here is a sample program and documentation link for you:"
   ]
  },
  {
   "cell_type": "code",
   "execution_count": 9,
   "metadata": {},
   "outputs": [
    {
     "name": "stdout",
     "output_type": "stream",
     "text": [
      "Good night\n"
     ]
    }
   ],
   "source": [
    "time = int(input(\"Enter the time in hours: \"))\n",
    "if (4 <time< 12):\n",
    "    print(\"Good morning\")\n",
    "elif(16>time > 12):\n",
    "    print(\"Good Afternoon\")\n",
    "elif(16<time < 19):\n",
    "    print(\"Good Evening\")\n",
    "else:\n",
    "    print(\"Good night\")\n",
    "    "
   ]
  }
 ],
 "metadata": {
  "kernelspec": {
   "display_name": "base",
   "language": "python",
   "name": "python3"
  },
  "language_info": {
   "codemirror_mode": {
    "name": "ipython",
    "version": 3
   },
   "file_extension": ".py",
   "mimetype": "text/x-python",
   "name": "python",
   "nbconvert_exporter": "python",
   "pygments_lexer": "ipython3",
   "version": "3.10.13"
  }
 },
 "nbformat": 4,
 "nbformat_minor": 2
}
