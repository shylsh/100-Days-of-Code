{
 "cells": [
  {
   "cell_type": "markdown",
   "metadata": {},
   "source": [
    "# Kaun banega crorepati"
   ]
  },
  {
   "cell_type": "markdown",
   "metadata": {},
   "source": [
    "### Create a program capable of displaying questions to the user like KBC.\n",
    "* Use list Datatype to store the questions and their correct answers\n",
    "* Display the final amount the person is taking home after playing the game."
   ]
  },
  {
   "cell_type": "markdown",
   "metadata": {},
   "source": [
    "> 1. What is the primary function used to display output in Python?\n",
    "*    Answer: print\n",
    "\n",
    "> 2. What is the term used to describe a named block of code that can be called repeatedly in a Python program?\n",
    "*    Answer: function\n",
    "\n",
    "> 3. Which built-in data type in Python is used to store an ordered collection of items, allowing duplicates and allowing modification of items?\n",
    "*    Answer: list\n",
    "\n",
    "> 4. In Python, what is the operator used to compare two values and return True if they are equal, and False otherwise?\n",
    "*    Answer: ==\n",
    "\n",
    "> 5. What is the term used to describe a sequence of characters enclosed within single quotes (' ') or double quotes (\" \") in Python?\n",
    "*   Answer: string\n"
   ]
  },
  {
   "cell_type": "code",
   "execution_count": 1,
   "metadata": {},
   "outputs": [],
   "source": [
    "q1 = \"What is the primary function used to display output in Python?\"\n",
    "a1 = \"print\"\n",
    "q2 = \"What is the term used to describe a named block of code that can be called repeatedly in a Python program?\"\n",
    "a2 = \"function\"\n",
    "q3 = \"Which built-in data type in Python is used to store an ordered collection of items, allowing duplicates and allowing modification of items?\"\n",
    "a3 = \"list\"\n",
    "q4 = \"In Python, what is the operator used to compare two values and return True if they are equal, and False otherwise?\"\n",
    "a4 = \"==\"\n",
    "q5 = \"What is the term used to describe a sequence of characters enclosed within single quotes (' ') or double quotes (\" \") in Python?\"\n",
    "a5 = \"string\""
   ]
  },
  {
   "cell_type": "code",
   "execution_count": 2,
   "metadata": {},
   "outputs": [],
   "source": [
    "questions = [q1,q2,q3,q4,q5]\n",
    "answers = [a1,a2,a3,a4,a5]"
   ]
  },
  {
   "cell_type": "code",
   "execution_count": 4,
   "metadata": {},
   "outputs": [
    {
     "name": "stdout",
     "output_type": "stream",
     "text": [
      "['What is the primary function used to display output in Python?', 'What is the term used to describe a named block of code that can be called repeatedly in a Python program?', 'Which built-in data type in Python is used to store an ordered collection of items, allowing duplicates and allowing modification of items?', 'In Python, what is the operator used to compare two values and return True if they are equal, and False otherwise?', \"What is the term used to describe a sequence of characters enclosed within single quotes (' ') or double quotes () in Python?\"]\n",
      "['print', 'function', 'list', '==', 'string']\n"
     ]
    }
   ],
   "source": [
    "print(questions)\n",
    "print(answers)"
   ]
  },
  {
   "cell_type": "code",
   "execution_count": 9,
   "metadata": {},
   "outputs": [
    {
     "name": "stdout",
     "output_type": "stream",
     "text": [
      "Correct answer\n"
     ]
    }
   ],
   "source": [
    "print(\"Welcome to KBC\")\n",
    "\n",
    "answ1 = input(f'{q1}: ')\n",
    "if answ1 == a1:\n",
    "    print(\"Correct answer\")"
   ]
  }
 ],
 "metadata": {
  "kernelspec": {
   "display_name": "base",
   "language": "python",
   "name": "python3"
  },
  "language_info": {
   "codemirror_mode": {
    "name": "ipython",
    "version": 3
   },
   "file_extension": ".py",
   "mimetype": "text/x-python",
   "name": "python",
   "nbconvert_exporter": "python",
   "pygments_lexer": "ipython3",
   "version": "3.10.13"
  }
 },
 "nbformat": 4,
 "nbformat_minor": 2
}
