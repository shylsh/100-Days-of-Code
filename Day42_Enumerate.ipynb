{
 "cells": [
  {
   "cell_type": "markdown",
   "metadata": {},
   "source": [
    "### Enumerate\n",
    "* The enumerate function is a built-in function in Python that allows you to loop over a sequence (such as a list, tuple or string) and get the index and value of each element in the sequence at the same time. Here's a basic example of how it works:"
   ]
  },
  {
   "cell_type": "code",
   "execution_count": 2,
   "metadata": {},
   "outputs": [
    {
     "name": "stdout",
     "output_type": "stream",
     "text": [
      "12\n",
      "56\n",
      "32\n",
      "98\n",
      "Shailesh, awesome!\n",
      "12\n",
      "45\n",
      "1\n",
      "4\n"
     ]
    }
   ],
   "source": [
    "marks = [12,56,32,98,12, 45,1,4]\n",
    "\n",
    "index = 0\n",
    "for mark in marks:\n",
    "    print(mark)\n",
    "    if(index ==3 ):\n",
    "        print(\"Shailesh, awesome!\")\n",
    "    index +=1"
   ]
  },
  {
   "cell_type": "code",
   "execution_count": 4,
   "metadata": {},
   "outputs": [
    {
     "name": "stdout",
     "output_type": "stream",
     "text": [
      "12\n",
      "56\n",
      "32\n",
      "98\n",
      "Shailesh, awesome!\n",
      "12\n",
      "45\n",
      "1\n",
      "4\n"
     ]
    }
   ],
   "source": [
    "for index,mark in enumerate(marks):\n",
    "    print(mark)\n",
    "    if(index ==3 ):\n",
    "        print(\"Shailesh, awesome!\")\n",
    "    "
   ]
  },
  {
   "cell_type": "code",
   "execution_count": 5,
   "metadata": {},
   "outputs": [
    {
     "name": "stdout",
     "output_type": "stream",
     "text": [
      "1 apple\n",
      "2 banana\n",
      "3 orange\n"
     ]
    }
   ],
   "source": [
    "fruits = ['apple','banana', 'orange']\n",
    "for index, fruit in enumerate(fruits, start=1):\n",
    "    print(index, fruit)"
   ]
  },
  {
   "cell_type": "code",
   "execution_count": null,
   "metadata": {},
   "outputs": [],
   "source": []
  }
 ],
 "metadata": {
  "kernelspec": {
   "display_name": "base",
   "language": "python",
   "name": "python3"
  },
  "language_info": {
   "codemirror_mode": {
    "name": "ipython",
    "version": 3
   },
   "file_extension": ".py",
   "mimetype": "text/x-python",
   "name": "python",
   "nbconvert_exporter": "python",
   "pygments_lexer": "ipython3",
   "version": "3.10.13"
  }
 },
 "nbformat": 4,
 "nbformat_minor": 2
}
