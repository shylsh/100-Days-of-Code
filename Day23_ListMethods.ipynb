{
 "cells": [
  {
   "cell_type": "code",
   "execution_count": 15,
   "metadata": {},
   "outputs": [
    {
     "name": "stdout",
     "output_type": "stream",
     "text": [
      "[1, 2, 4, 6]\n",
      "[1, 2, 4, 6, 7]\n",
      "[7, 6, 4, 2, 1]\n",
      "[1, 2, 4, 6, 7]\n",
      "[7, 6, 4, 2, 1]\n",
      "1\n"
     ]
    }
   ],
   "source": [
    "l = [1,2,4,6]\n",
    "print(l)\n",
    "l.append(7) # adds element at the end of the list\n",
    "print(l)\n",
    "l.reverse() # reversers the order of list\n",
    "print(l)\n",
    "l.sort() # sorts the list in ascending\n",
    "print(l)\n",
    "l.sort(reverse = True) # sorts the list in ascending and reverses its order \n",
    "print(l)\n",
    "print(l.count((1))) # counts the occurence of 1 in the given list\n"
   ]
  },
  {
   "cell_type": "code",
   "execution_count": 17,
   "metadata": {},
   "outputs": [
    {
     "name": "stdout",
     "output_type": "stream",
     "text": [
      "[7, 6, 4, 2, 1]\n",
      "[0, 6, 4, 2, 1]\n"
     ]
    }
   ],
   "source": [
    "m = l.copy()\n",
    "m[0] = 0\n",
    "print(l)\n",
    "print(m)"
   ]
  },
  {
   "cell_type": "code",
   "execution_count": 18,
   "metadata": {},
   "outputs": [
    {
     "name": "stdout",
     "output_type": "stream",
     "text": [
      "[7, 899, 6, 4, 2, 1]\n"
     ]
    }
   ],
   "source": [
    "l.insert(1, 899) # inserting 899 at index 1\n",
    "print(l)"
   ]
  },
  {
   "cell_type": "code",
   "execution_count": 19,
   "metadata": {},
   "outputs": [
    {
     "name": "stdout",
     "output_type": "stream",
     "text": [
      "[7, 899, 6, 4, 2, 1, 900, 1000, 1100]\n"
     ]
    }
   ],
   "source": [
    "m = [900,1000,1100]\n",
    "l.extend(m) # adding list m in list l\n",
    "print(l)"
   ]
  },
  {
   "cell_type": "code",
   "execution_count": 20,
   "metadata": {},
   "outputs": [
    {
     "name": "stdout",
     "output_type": "stream",
     "text": [
      "[7, 899, 6, 4, 2, 1, 900, 1000, 1100, 900, 1000, 1100]\n"
     ]
    }
   ],
   "source": [
    "k = l+ m\n",
    "print(k)"
   ]
  },
  {
   "cell_type": "code",
   "execution_count": null,
   "metadata": {},
   "outputs": [],
   "source": []
  }
 ],
 "metadata": {
  "kernelspec": {
   "display_name": "base",
   "language": "python",
   "name": "python3"
  },
  "language_info": {
   "codemirror_mode": {
    "name": "ipython",
    "version": 3
   },
   "file_extension": ".py",
   "mimetype": "text/x-python",
   "name": "python",
   "nbconvert_exporter": "python",
   "pygments_lexer": "ipython3",
   "version": "3.10.13"
  }
 },
 "nbformat": 4,
 "nbformat_minor": 2
}
