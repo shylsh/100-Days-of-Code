{
 "cells": [
  {
   "cell_type": "markdown",
   "metadata": {},
   "source": [
    "### TypeCasting\n",
    "The conversion of one data type into the other daya type is known  as casting in python or type conversion in python"
   ]
  },
  {
   "cell_type": "markdown",
   "metadata": {},
   "source": [
    "### Two types of typecasting:\n",
    "* **Explicit Conversion**\n",
    " The conversion of one data type into another data type , done via developer or programmer's intervention or manually as per the requirement,is known  as explicit type conversion.\n",
    "\n",
    "* **Implicit Conversion**\n",
    " Data types in python do not have the same level i.e. ordering of data types is not the same in PYhton. Some of the data types have, higher-order, and some have lower order. While performing any operations on variables with different daya types in Python, one of the variable's data types will be changed to the higher data type.\n",
    " \n",
    " * Python converts a smaller daya type to a higher data type to prevent data loss.\n"
   ]
  },
  {
   "cell_type": "code",
   "execution_count": 4,
   "metadata": {},
   "outputs": [
    {
     "name": "stdout",
     "output_type": "stream",
     "text": [
      "56\n",
      "11\n"
     ]
    }
   ],
   "source": [
    "a = '5'\n",
    "b = '6'\n",
    "print(a+b)\n",
    "print(int(a)+int(b))"
   ]
  },
  {
   "cell_type": "code",
   "execution_count": 5,
   "metadata": {},
   "outputs": [
    {
     "name": "stdout",
     "output_type": "stream",
     "text": [
      "9.9\n"
     ]
    }
   ],
   "source": [
    "# implicit typecasting\n",
    "c =1.9 \n",
    "d = 8\n",
    "\n",
    "print(c + d)"
   ]
  }
 ],
 "metadata": {
  "kernelspec": {
   "display_name": "base",
   "language": "python",
   "name": "python3"
  },
  "language_info": {
   "codemirror_mode": {
    "name": "ipython",
    "version": 3
   },
   "file_extension": ".py",
   "mimetype": "text/x-python",
   "name": "python",
   "nbconvert_exporter": "python",
   "pygments_lexer": "ipython3",
   "version": "3.10.13"
  }
 },
 "nbformat": 4,
 "nbformat_minor": 2
}
