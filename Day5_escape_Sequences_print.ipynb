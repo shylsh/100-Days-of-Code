{
 "cells": [
  {
   "cell_type": "code",
   "execution_count": 2,
   "metadata": {},
   "outputs": [],
   "source": [
    "# Hey Shailesh, Please don't remove this line\n",
    "# author : shailesh\n",
    "# comment is a part of the coding file that the programmer does not want to execute"
   ]
  },
  {
   "cell_type": "code",
   "execution_count": 3,
   "metadata": {},
   "outputs": [
    {
     "name": "stdout",
     "output_type": "stream",
     "text": [
      "hello world\n"
     ]
    }
   ],
   "source": [
    "print(\"hello world\") # printing hello world"
   ]
  },
  {
   "cell_type": "code",
   "execution_count": 9,
   "metadata": {},
   "outputs": [
    {
     "name": "stdout",
     "output_type": "stream",
     "text": [
      "Hey I am a good boy \n",
      "and this viewer is also a good boy/girl\n"
     ]
    }
   ],
   "source": [
    "print(\"Hey I am a good boy \\nand this viewer is also a good boy/girl\")"
   ]
  },
  {
   "cell_type": "markdown",
   "metadata": {},
   "source": [
    "* \\n is a escape sequence character"
   ]
  },
  {
   "cell_type": "code",
   "execution_count": 11,
   "metadata": {},
   "outputs": [
    {
     "name": "stdout",
     "output_type": "stream",
     "text": [
      "hey i am a \"Good boy\"\n"
     ]
    }
   ],
   "source": [
    "print(\"hey i am a \\\"Good boy\\\"\")"
   ]
  },
  {
   "cell_type": "code",
   "execution_count": 12,
   "metadata": {},
   "outputs": [
    {
     "name": "stdout",
     "output_type": "stream",
     "text": [
      "Hey I am a \"good boy\" \n",
      "and this viewer is also a good boy/girl\n"
     ]
    }
   ],
   "source": [
    "print(\"Hey I am a \\\"good boy\\\" \\nand this viewer is also a good boy/girl\")"
   ]
  },
  {
   "cell_type": "code",
   "execution_count": 13,
   "metadata": {},
   "outputs": [
    {
     "name": "stdout",
     "output_type": "stream",
     "text": [
      "hey-6-7\n"
     ]
    }
   ],
   "source": [
    "print(\"hey\", 6,7 , sep=\"-\",end = '\\n')"
   ]
  },
  {
   "cell_type": "code",
   "execution_count": 14,
   "metadata": {},
   "outputs": [
    {
     "name": "stdout",
     "output_type": "stream",
     "text": [
      "hey-6-7009\n"
     ]
    }
   ],
   "source": [
    "print(\"hey\", 6,7 , sep=\"-\",end = '009\\n')"
   ]
  },
  {
   "cell_type": "markdown",
   "metadata": {},
   "source": [
    "parameter of print statement\n",
    "* **objects**: ANy object, and as many as you like. Will be converted to string before printed\n",
    "* **sep** = 'seperator' Specify how to sepearate the objects, if there is more tahn one . Default is ''\n",
    "* **end** = 'end' Specify what to print at the end. Default is \\n\n",
    "* **file** = An object with a write method. Default is sys.stdout"
   ]
  },
  {
   "cell_type": "code",
   "execution_count": null,
   "metadata": {},
   "outputs": [],
   "source": []
  }
 ],
 "metadata": {
  "kernelspec": {
   "display_name": "base",
   "language": "python",
   "name": "python3"
  },
  "language_info": {
   "codemirror_mode": {
    "name": "ipython",
    "version": 3
   },
   "file_extension": ".py",
   "mimetype": "text/x-python",
   "name": "python",
   "nbconvert_exporter": "python",
   "pygments_lexer": "ipython3",
   "version": "3.10.13"
  }
 },
 "nbformat": 4,
 "nbformat_minor": 2
}
