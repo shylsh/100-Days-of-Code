{
 "cells": [
  {
   "cell_type": "code",
   "execution_count": 1,
   "metadata": {},
   "outputs": [
    {
     "name": "stdout",
     "output_type": "stream",
     "text": [
      "('Spain', 'Italy', 'Finland', 'Germany', 'Russia')\n"
     ]
    }
   ],
   "source": [
    "countries = (\"Spain\", \"Italy\", \"India\", \"England\", \"Germany\")\n",
    "temp = list(countries)\n",
    "\n",
    "temp.append(\"Russia\")        # add item\n",
    "temp.pop(3)                  # remove item\n",
    "temp[2] = \"Finland\"          # change item\n",
    "\n",
    "countries = tuple(temp)\n",
    "print(countries)"
   ]
  },
  {
   "cell_type": "code",
   "execution_count": 2,
   "metadata": {},
   "outputs": [
    {
     "name": "stdout",
     "output_type": "stream",
     "text": [
      "('Pakistan', 'Afghanistan', 'Bangladesh', 'ShrilLanka', 'Vietnam', 'India', 'China')\n"
     ]
    }
   ],
   "source": [
    "countries = (\"Pakistan\", \"Afghanistan\",\n",
    "\"Bangladesh\", \"ShrilLanka\")\n",
    "\n",
    "countries2 = (\"Vietnam\", \"India\", \"China\")\n",
    "southEastAsia = countries + countries2\n",
    "print(southEastAsia)"
   ]
  },
  {
   "cell_type": "code",
   "execution_count": 4,
   "metadata": {},
   "outputs": [
    {
     "name": "stdout",
     "output_type": "stream",
     "text": [
      "Count of 3 in tuple is : 3\n",
      "Index of 3 in slice 4:8 is : 5\n"
     ]
    }
   ],
   "source": [
    "tuple1 = (0,1,2,3,2,3,1,3,2)\n",
    "res= tuple1.count(3)\n",
    "print(f'Count of 3 in tuple is : {res}')\n",
    "res1 = tuple1.index(3,4,8)\n",
    "print(f'Index of 3 in slice 4:8 is : {res1}')"
   ]
  }
 ],
 "metadata": {
  "kernelspec": {
   "display_name": "base",
   "language": "python",
   "name": "python3"
  },
  "language_info": {
   "codemirror_mode": {
    "name": "ipython",
    "version": 3
   },
   "file_extension": ".py",
   "mimetype": "text/x-python",
   "name": "python",
   "nbconvert_exporter": "python",
   "pygments_lexer": "ipython3",
   "version": "3.10.13"
  }
 },
 "nbformat": 4,
 "nbformat_minor": 2
}
