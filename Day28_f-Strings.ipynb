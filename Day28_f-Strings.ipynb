{
 "cells": [
  {
   "cell_type": "markdown",
   "metadata": {},
   "source": [
    "* f-strings enables a convenient way to embed Python expression inside string literals for formatting. "
   ]
  },
  {
   "cell_type": "code",
   "execution_count": 2,
   "metadata": {},
   "outputs": [
    {
     "name": "stdout",
     "output_type": "stream",
     "text": [
      "Hey my name is Shailesh and I am from India\n",
      "My name is Shailesh and I live in India\n"
     ]
    }
   ],
   "source": [
    "letter = \"Hey my name is {} and I am from {}\"\n",
    "name = \"Shailesh\"\n",
    "country = \"India\"\n",
    "print(letter.format(name, country))\n",
    "print(f'My name is {name} and I live in {country}')"
   ]
  }
 ],
 "metadata": {
  "kernelspec": {
   "display_name": "base",
   "language": "python",
   "name": "python3"
  },
  "language_info": {
   "codemirror_mode": {
    "name": "ipython",
    "version": 3
   },
   "file_extension": ".py",
   "mimetype": "text/x-python",
   "name": "python",
   "nbconvert_exporter": "python",
   "pygments_lexer": "ipython3",
   "version": "3.10.13"
  }
 },
 "nbformat": 4,
 "nbformat_minor": 2
}
